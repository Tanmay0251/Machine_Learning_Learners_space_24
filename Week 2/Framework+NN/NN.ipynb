{
  "cells": [
    {
      "cell_type": "code",
      "execution_count": 1,
      "metadata": {
        "id": "ZYagUjFNMp7E"
      },
      "outputs": [],
      "source": [
        "import tensorflow as tf\n",
        "import shutil\n",
        "import os\n",
        "import cv2\n",
        "import numpy as np\n",
        "from sklearn.model_selection import train_test_split\n",
        "from tensorflow.keras.utils import to_categorical\n",
        "from tensorflow.keras.preprocessing.image import img_to_array\n",
        "from tensorflow import keras\n",
        "from tensorflow.keras import layers, regularizers\n",
        "from tensorflow.keras.optimizers import Adam\n",
        "from tensorflow.keras.models import Sequential\n",
        "from tensorflow.keras.layers import Dense, Dropout, BatchNormalization, Activation, Flatten\n",
        "from tensorflow.keras.losses import BinaryCrossentropy\n",
        "import random"
      ]
    },
    {
      "cell_type": "code",
      "execution_count": 2,
      "metadata": {
        "id": "UMdur_zwdJ8s"
      },
      "outputs": [],
      "source": [
        "np.random.seed(42)\n",
        "tf.random.set_seed(42)\n",
        "random.seed(42)"
      ]
    },
    {
      "cell_type": "code",
      "execution_count": 3,
      "metadata": {
        "id": "pOFz6Uj0Mx67"
      },
      "outputs": [],
      "source": [
        "physical_devices = tf.config.list_physical_devices(\"GPU\")\n",
        "if physical_devices:\n",
        "  tf.config.experimental.set_memory_growth(physical_devices[0], True)\n",
        "else:\n",
        "  print(\"No GPUs available.\")"
      ]
    },
    {
      "cell_type": "code",
      "execution_count": 4,
      "metadata": {
        "id": "2r2yenbXNDxV"
      },
      "outputs": [],
      "source": [
        "!unzip -q homer_bart.zip"
      ]
    },
    {
      "cell_type": "code",
      "execution_count": 5,
      "metadata": {
        "id": "GxfuNT9wNH1z"
      },
      "outputs": [],
      "source": [
        "os.makedirs('/content/Data')\n",
        "shutil.move('/content/Bart', '/content/Data')\n",
        "shutil.move('/content/Homer', '/content/Data')\n",
        "print(os.listdir('/content/Data'))"
      ]
    },
    {
      "cell_type": "code",
      "execution_count": 6,
      "metadata": {
        "colab": {
          "base_uri": "https://localhost:8080/"
        },
        "id": "-OdMXLwiNHp2",
        "outputId": "3a80d2db-6b01-4b25-df6b-102b186edb10"
      },
      "outputs": [
        {
          "name": "stdout",
          "output_type": "stream",
          "text": [
            "Found 269 files belonging to 2 classes.\n"
          ]
        }
      ],
      "source": [
        "data = tf.keras.preprocessing.image_dataset_from_directory(\n",
        "    '/content/Data',\n",
        "    image_size=(64, 64),\n",
        "    batch_size=32,\n",
        "    shuffle=True,\n",
        "    seed=42\n",
        ")"
      ]
    },
    {
      "cell_type": "code",
      "execution_count": 7,
      "metadata": {
        "id": "0SoScpaagdIV"
      },
      "outputs": [],
      "source": [
        "train = data.take(int(len(data)*0.9))\n",
        "test = data.skip(int(len(data)*0.9))"
      ]
    },
    {
      "cell_type": "code",
      "execution_count": 8,
      "metadata": {
        "colab": {
          "base_uri": "https://localhost:8080/"
        },
        "id": "yL9xx8L-dY61",
        "outputId": "08c526a6-0330-401b-ee18-c2a73013aab9"
      },
      "outputs": [
        {
          "name": "stdout",
          "output_type": "stream",
          "text": [
            "8\n",
            "1\n"
          ]
        }
      ],
      "source": [
        "print(len(train))\n",
        "print(len(test))"
      ]
    },
    {
      "cell_type": "code",
      "execution_count": 9,
      "metadata": {
        "id": "m5nmTZreNHkw"
      },
      "outputs": [],
      "source": [
        "model = Sequential([\n",
        "    Flatten(input_shape=(64,64,3)),\n",
        "    Dense(256, activation='relu'),\n",
        "    Dense(128, activation='relu'),\n",
        "    Dense(64, activation='relu'),\n",
        "    Dense(32, activation='relu'),\n",
        "    Dense(1, activation='sigmoid')\n",
        "])"
      ]
    },
    {
      "cell_type": "code",
      "execution_count": 10,
      "metadata": {
        "id": "K1AIwnG9NKYb"
      },
      "outputs": [],
      "source": [
        "model.compile(\n",
        "    loss='binary_crossentropy',\n",
        "    optimizer='adam',\n",
        "    metrics=[\"accuracy\"]\n",
        ")"
      ]
    },
    {
      "cell_type": "code",
      "execution_count": 11,
      "metadata": {
        "colab": {
          "base_uri": "https://localhost:8080/"
        },
        "id": "MJcUv8DQNq9Y",
        "outputId": "c79ea580-ee3d-42a0-b7b3-33e59e9fadfe"
      },
      "outputs": [
        {
          "name": "stdout",
          "output_type": "stream",
          "text": [
            "Epoch 1/10\n",
            "8/8 [==============================] - 3s 6ms/step - loss: 313.2393 - accuracy: 0.5195\n",
            "Epoch 2/10\n",
            "8/8 [==============================] - 0s 5ms/step - loss: 72.8463 - accuracy: 0.4922\n",
            "Epoch 3/10\n",
            "8/8 [==============================] - 0s 5ms/step - loss: 185.8616 - accuracy: 0.5078\n",
            "Epoch 4/10\n",
            "8/8 [==============================] - 0s 5ms/step - loss: 102.0384 - accuracy: 0.5273\n",
            "Epoch 5/10\n",
            "8/8 [==============================] - 0s 5ms/step - loss: 46.1943 - accuracy: 0.6172\n",
            "Epoch 6/10\n",
            "8/8 [==============================] - 0s 5ms/step - loss: 21.4354 - accuracy: 0.7539\n",
            "Epoch 7/10\n",
            "8/8 [==============================] - 0s 5ms/step - loss: 32.5279 - accuracy: 0.7227\n",
            "Epoch 8/10\n",
            "8/8 [==============================] - 0s 5ms/step - loss: 12.4788 - accuracy: 0.7891\n",
            "Epoch 9/10\n",
            "8/8 [==============================] - 0s 5ms/step - loss: 10.9257 - accuracy: 0.7930\n",
            "Epoch 10/10\n",
            "8/8 [==============================] - 0s 6ms/step - loss: 8.6470 - accuracy: 0.8320\n"
          ]
        },
        {
          "data": {
            "text/plain": [
              "<keras.src.callbacks.History at 0x790f400da7a0>"
            ]
          },
          "execution_count": 11,
          "metadata": {},
          "output_type": "execute_result"
        }
      ],
      "source": [
        "model.fit(train, epochs=10)"
      ]
    },
    {
      "cell_type": "code",
      "execution_count": 12,
      "metadata": {
        "colab": {
          "base_uri": "https://localhost:8080/"
        },
        "id": "__-LvZO2MyqJ",
        "outputId": "deb97fa8-6247-4eee-9f87-6a6added64e5"
      },
      "outputs": [
        {
          "name": "stdout",
          "output_type": "stream",
          "text": [
            "1/1 [==============================] - 0s 310ms/step - loss: 6.6709e-06 - accuracy: 1.0000\n",
            "Test Accuracy:  100.0\n"
          ]
        }
      ],
      "source": [
        "x, y = model.evaluate(test)\n",
        "print(\"Test Accuracy: \", y*100)"
      ]
    }
  ],
  "metadata": {
    "accelerator": "GPU",
    "colab": {
      "gpuType": "T4",
      "provenance": []
    },
    "kernelspec": {
      "display_name": "Python 3",
      "name": "python3"
    },
    "language_info": {
      "name": "python"
    }
  },
  "nbformat": 4,
  "nbformat_minor": 0
}
